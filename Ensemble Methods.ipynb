{
 "cells": [
  {
   "cell_type": "code",
   "execution_count": 1,
   "metadata": {},
   "outputs": [],
   "source": [
    "import pandas as pd\n",
    "import numpy as np\n",
    "import seaborn as sn\n",
    "import matplotlib.pyplot as plt\n",
    "%matplotlib inline"
   ]
  },
  {
   "cell_type": "code",
   "execution_count": null,
   "metadata": {},
   "outputs": [],
   "source": [
    "import warnings \n",
    "warnings =filterwarnings('ignore')"
   ]
  },
  {
   "cell_type": "code",
   "execution_count": 2,
   "metadata": {},
   "outputs": [],
   "source": [
    "df = pd.read_csv(r'C:\\Users\\Vinay\\Downloads\\creeplifesuperalloy (1).csv')"
   ]
  },
  {
   "cell_type": "code",
   "execution_count": 4,
   "metadata": {},
   "outputs": [],
   "source": [
    "df1=df.drop(columns=\"Generation\")"
   ]
  },
  {
   "cell_type": "code",
   "execution_count": 5,
   "metadata": {},
   "outputs": [],
   "source": [
    "from sklearn.preprocessing import StandardScaler"
   ]
  },
  {
   "cell_type": "code",
   "execution_count": 6,
   "metadata": {},
   "outputs": [],
   "source": [
    "scaler = StandardScaler()\n",
    "scaler.fit(df1)\n",
    "scaled_df1 = scaler.transform(df1)"
   ]
  },
  {
   "cell_type": "code",
   "execution_count": null,
   "metadata": {},
   "outputs": [],
   "source": [
    "cmap = sn.cubehelix_palette(as_cmap=True,rot=-.3,light=1)\n",
    "sn.clustermap(scaled_df1,cmap=cmap,linewidths=.2,figsize=(8,8));"
   ]
  },
  {
   "cell_type": "code",
   "execution_count": 8,
   "metadata": {},
   "outputs": [],
   "source": [
    "from sklearn.cluster import KMeans\n",
    "clusters=KMeans(5,random_state=42)\n",
    "clusters.fit(scaled_df1)\n",
    "df1[\"clusterid\"] = clusters.labels_"
   ]
  },
  {
   "cell_type": "code",
   "execution_count": 9,
   "metadata": {},
   "outputs": [],
   "source": [
    "df3= df1[df1.clusterid ==1]\n",
    "df4= df1[df1.clusterid ==2]\n",
    "df5= df1[df1.clusterid ==3]\n",
    "df6= df1[df1.clusterid ==4]\n",
    "df2= df1[df1.clusterid ==0]"
   ]
  },
  {
   "cell_type": "code",
   "execution_count": null,
   "metadata": {},
   "outputs": [],
   "source": [
    "plt.figure(figsize=(8,6))\n",
    "sn.countplot(x='clusterid',hue='clusterid',data=df1)"
   ]
  },
  {
   "cell_type": "code",
   "execution_count": 11,
   "metadata": {},
   "outputs": [],
   "source": [
    "from sklearn.decomposition import PCA\n",
    "pca = PCA(n_components = 2)\n",
    "pca.fit(scaled_df1)\n",
    "pca_df1 = pca.transform(scaled_df1)"
   ]
  },
  {
   "cell_type": "code",
   "execution_count": null,
   "metadata": {},
   "outputs": [],
   "source": [
    "plt.figure(figsize=(8,6))\n",
    "plt.scatter(pca_df1[:, 0],pca_df1[:, 1],c=df1['clusterid'],marker=None,cmap='plasma')\n",
    "plt.xlabel('First principle component')\n",
    "plt.ylabel('Second principle component')"
   ]
  },
  {
   "cell_type": "code",
   "execution_count": 114,
   "metadata": {},
   "outputs": [],
   "source": [
    "from sklearn.model_selection import train_test_split\n",
    "X_train,X_test,y_train,y_test = train_test_split(df5[[\"Constrained_lattice_misfit\",\"temperature\",\"applied_Stress\",\"Ni_wt\",\"Re_wt\",\"Co_wt\",\"Al_wt\",\"Ti_wt\",\"W_wt\",\"Mo_wt\",\"Cr_wt\",\"Ta_wt\",\"C_wt\",\"Hf_wt\",\"Ru_wt\",\n",
    "                                                      \"B_wt\",\"Y_wt\",\"solution_treatment_time\",\"1st_step_aging_treatment_time\",\"2nd_step_aging_treatment_time\",\"1st_step_aging_treatment_temperature\",\"2nd_step_aging_treatment_temperature\",\n",
    "                                                      \"τ\",\"solution_treatment_temperature\",\"DL\",\"G\",\"L\",\"Ni3Al_fraction\"]],df5[\"creep_life\"],test_size=0.1,random_state=42)"
   ]
  },
  {
   "cell_type": "code",
   "execution_count": 27,
   "metadata": {},
   "outputs": [],
   "source": [
    "scaler = StandardScaler()\n",
    "scaler.fit(df3)\n",
    "scaled_df1 = scaler.transform(df3)"
   ]
  },
  {
   "cell_type": "code",
   "execution_count": null,
   "metadata": {},
   "outputs": [],
   "source": [
    "from sklearn.linear_model import LinearRegression\n",
    "linreg = LinearRegression()\n",
    "linreg.fit(X_train,y_train)"
   ]
  },
  {
   "cell_type": "code",
   "execution_count": null,
   "metadata": {},
   "outputs": [],
   "source": [
    "from sklearn.linear_model import Ridge\n",
    "ridge= Ridge(alpha =2,max_iter =500)\n",
    "ridge.fit(X_train,y_train)"
   ]
  },
  {
   "cell_type": "code",
   "execution_count": 37,
   "metadata": {},
   "outputs": [
    {
     "name": "stderr",
     "output_type": "stream",
     "text": [
      "C:\\Users\\Vinay\\anaconda3\\lib\\site-packages\\sklearn\\linear_model\\_coordinate_descent.py:529: ConvergenceWarning: Objective did not converge. You might want to increase the number of iterations. Duality gap: 360.24635272558953, tolerance: 2.449734774193549\n",
      "  model = cd_fast.enet_coordinate_descent(\n"
     ]
    },
    {
     "data": {
      "text/plain": [
       "Lasso(alpha=0.01, max_iter=10000)"
      ]
     },
     "execution_count": 37,
     "metadata": {},
     "output_type": "execute_result"
    }
   ],
   "source": [
    "from sklearn.linear_model import Lasso\n",
    "lasso=Lasso(alpha = 0.01,max_iter =10000)\n",
    "lasso.fit(X_train,y_train)"
   ]
  },
  {
   "cell_type": "code",
   "execution_count": 86,
   "metadata": {},
   "outputs": [],
   "source": [
    "\n",
    "    from sklearn.svm import SVR\n",
    "    parameter = ' svr_model '\n",
    "    svm = SVR(kernel='linear', C=1400, gamma='auto')\n",
    "    "
   ]
  },
  {
   "cell_type": "code",
   "execution_count": null,
   "metadata": {},
   "outputs": [],
   "source": [
    "from sklearn.ensemble import RandomForestClassifier\n",
    "radm_clf=RandomForestClassifier(max_depth=1,n_estimators=10)\n",
    "radm_clf.fit(X_train,y_train)"
   ]
  },
  {
   "cell_type": "code",
   "execution_count": 85,
   "metadata": {},
   "outputs": [],
   "source": [
    "linreg_pred=linreg.fit(X_train,y_train,sample_weight=None )"
   ]
  },
  {
   "cell_type": "code",
   "execution_count": 118,
   "metadata": {},
   "outputs": [],
   "source": [
    "y_pred=linreg.predict(X_train)"
   ]
  },
  {
   "cell_type": "code",
   "execution_count": null,
   "metadata": {},
   "outputs": [],
   "source": [
    "test_pred_df = pd.DataFrame({'actual':y_train,'predicted':np.round(y_pred,2),'residuals':y_train-y_pred})\n",
    "test_pred_df.sample()"
   ]
  },
  {
   "cell_type": "code",
   "execution_count": null,
   "metadata": {},
   "outputs": [],
   "source": [
    "test_pred_df.describe()"
   ]
  },
  {
   "cell_type": "code",
   "execution_count": 78,
   "metadata": {},
   "outputs": [],
   "source": [
    "def fit_poly(degree):\n",
    "    p = np.polyfit(test_pred_df.actual,test_pred_df.predicted,deg = degree)\n",
    "    test_pred_df['fit']=np.polyval(p,test_pred_df.actual)\n",
    "    sn.regplot(test_pred_df.actual,test_pred_df.predicted,fit_reg=False)\n",
    "    return plt.plot(test_pred_df.actual,test_pred_df.predicted,label='fit')"
   ]
  },
  {
   "cell_type": "code",
   "execution_count": null,
   "metadata": {},
   "outputs": [],
   "source": [
    "\n",
    "plt.scatter(test_pred_df.actual,test_pred_df.predicted);\n",
    "plt.xlabel(\"actual values\")\n",
    "plt.ylabel(\"predicted values\")"
   ]
  },
  {
   "cell_type": "code",
   "execution_count": null,
   "metadata": {},
   "outputs": [],
   "source": [
    "\n",
    "    from sklearn.gaussian_process import GaussianProcessRegressor\n",
    "    from sklearn.gaussian_process.kernels import RationalQuadratic, WhiteKernel, RBF\n",
    "    from sklearn.gaussian_process.kernels import ConstantKernel as C\n",
    "    # parameter = \"C(1, (1e-4, 10000)) * RationalQuadratic(alpha=0.01, length_scale_bounds=(1e-5, 20))\"\n",
    "    parameter = ' gaussian_model '\n",
    "    # kernel_5 = C(1, (1e-4, 1)) * RationalQuadratic(alpha=0.1, length_scale_bounds=(0.01, 2000))\n",
    "    kernel = C(1, (0.1, 10)) * RationalQuadratic(alpha=0.01, length_scale_bounds=(0.1, 1500))\n",
    "    gpr = GaussianProcessRegressor(kernel=kernel, alpha=0.008, n_restarts_optimizer=20)\n",
    "    gpr.fit(X_train,y_train)"
   ]
  },
  {
   "cell_type": "code",
   "execution_count": null,
   "metadata": {},
   "outputs": [],
   "source": [
    "from sklearn import metrics\n",
    "r2 = metrics.r2_score(y_train,linreg.predict(X_train))\n",
    "print(\"R Squared:\",r2)"
   ]
  },
  {
   "cell_type": "code",
   "execution_count": null,
   "metadata": {},
   "outputs": [],
   "source": [
    "def get_train_test_rmse(model):\n",
    "    y_train_pred = model.predict(X_train)\n",
    "    rmse_train = round(np.sqrt(metrics.mean_squared_error(y_train,y_train_pred)),2)\n",
    "    y_test_pred = model.predict(X_test)\n",
    "    rmse_test =round(np.sqrt(metrics.mean_squared_error(y_test,y_test_pred)),2)\n",
    "    print(\"train:\",rmse_train,\"test:\",rmse_test)"
   ]
  },
  {
   "cell_type": "code",
   "execution_count": 188,
   "metadata": {},
   "outputs": [
    {
     "name": "stdout",
     "output_type": "stream",
     "text": [
      "train: 0.95 test: 495.05\n"
     ]
    }
   ],
   "source": [
    "get_train_test_rmse(gpr)"
   ]
  },
  {
   "cell_type": "code",
   "execution_count": null,
   "metadata": {},
   "outputs": [],
   "source": [
    "linreg.coef_"
   ]
  },
  {
   "cell_type": "code",
   "execution_count": null,
   "metadata": {},
   "outputs": [],
   "source": [
    "svm.coef_"
   ]
  },
  {
   "cell_type": "code",
   "execution_count": 34,
   "metadata": {},
   "outputs": [],
   "source": [
    "columns_coef_df = pd.DataFrame({'columns':df2[[\"Constrained_lattice_misfit\",\"temperature\",\"applied_Stress\",\"Ni_wt\",\"Re_wt\",\"Co_wt\",\"Al_wt\",\"Ti_wt\",\"W_wt\",\"Mo_wt\",\"Cr_wt\",\"Ta_wt\",\"C_wt\",\"Hf_wt\",\"Ru_wt\",\n",
    "                                                      \"B_wt\",\"Y_wt\",\"solution_treatment_time\",\"1st_step_aging_treatment_time\",\"2nd_step_aging_treatment_time\",\"1st_step_aging_treatment_temperature\",\"2nd_step_aging_treatment_temperature\",\n",
    "                                                      \"τ\",\"solution_treatment_temperature\",\"DL\",\"G\",\"L\",\"Ni3Al_fraction\"]],'coef':linreg.coef_ })\n",
    "sorted_coef_vals = columns_coef_df.sort_values('coef',ascending=False)"
   ]
  },
  {
   "cell_type": "code",
   "execution_count": null,
   "metadata": {},
   "outputs": [],
   "source": [
    "plt.figure(figsize = (8,6))\n",
    "sn.barplot(x=\"coef\",y=\"columns\",data=sorted_coef_vals);\n",
    "plt.xlabel(\"Coefficients of Linear Regression\")\n",
    "plt.ylabel(\"Features\")"
   ]
  },
  {
   "cell_type": "code",
   "execution_count": null,
   "metadata": {},
   "outputs": [],
   "source": [
    "from sklearn.ensemble import RandomForestClassifier\n",
    "radm_clf =RandomForestClassifier(max_depth =10,n_estimators=10)\n",
    "radm_clf.fit(X_train,y_train)"
   ]
  },
  {
   "cell_type": "code",
   "execution_count": null,
   "metadata": {},
   "outputs": [],
   "source": [
    "import numpy as np \n",
    "feature_rank = pd.DataFrame({'feature':X_train.columns,'importance':linreg.coef_})\n",
    "feature_rank =feature_rank.sort_values('importance',ascending =False)\n",
    "plt.figure(figsize=(8,6))\n",
    "sn.barplot(y='feature',x='importance',data=feature_rank);"
   ]
  },
  {
   "cell_type": "code",
   "execution_count": 37,
   "metadata": {},
   "outputs": [],
   "source": [
    "y_pred, std = gpr.predict(X_train, return_std=True)\n",
    "y_pred=linreg.predict(X_train)\n"
   ]
  },
  {
   "cell_type": "code",
   "execution_count": null,
   "metadata": {},
   "outputs": [],
   "source": [
    "test_pred_df = pd.DataFrame({'actual':y_train,'predicted':np.round(y_pred,2),'residuals':y_train-y_pred})\n",
    "test_pred_df.sample(5)"
   ]
  },
  {
   "cell_type": "code",
   "execution_count": null,
   "metadata": {},
   "outputs": [],
   "source": [
    "plt.scatterplot"
   ]
  }
 ],
 "metadata": {
  "kernelspec": {
   "display_name": "Python 3",
   "language": "python",
   "name": "python3"
  },
  "language_info": {
   "codemirror_mode": {
    "name": "ipython",
    "version": 3
   },
   "file_extension": ".py",
   "mimetype": "text/x-python",
   "name": "python",
   "nbconvert_exporter": "python",
   "pygments_lexer": "ipython3",
   "version": "3.7.3"
  }
 },
 "nbformat": 4,
 "nbformat_minor": 4
}
